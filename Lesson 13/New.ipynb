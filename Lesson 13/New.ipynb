{
 "cells": [
  {
   "cell_type": "markdown",
   "metadata": {},
   "source": [
    "Exercise 1:\n",
    "Best-selling artists"
   ]
  },
  {
   "cell_type": "code",
   "execution_count": 1,
   "metadata": {},
   "outputs": [
    {
     "name": "stdout",
     "output_type": "stream",
     "text": [
      "unknown\n"
     ]
    }
   ],
   "source": [
    "artists = {\"The Beatles\":\"600 million\", \"Elvis Presley\":\"600 million\", \"Michael Jackson\":\"350 million\", \"Madonna\":\"300 million\"}\n",
    "B = input (\"Hey, what's the name of a your favorite famous artist?\")\n",
    "if  B in artists:\n",
    "    print(artists [B])\n",
    "else: \n",
    "    print(\"unknown\")"
   ]
  },
  {
   "cell_type": "markdown",
   "metadata": {},
   "source": [
    "Exercise 2:\n",
    "Fibonacci"
   ]
  },
  {
   "cell_type": "code",
   "execution_count": 3,
   "metadata": {},
   "outputs": [
    {
     "name": "stdout",
     "output_type": "stream",
     "text": [
      "[0, 2, 8]\n",
      "[1, 1, 3, 5]\n"
     ]
    }
   ],
   "source": [
    "fibonacci_list = [0, 1, 1, 2, 3, 5, 8]\n",
    "even_fibonacci = fibonacci_list [0:7:3]\n",
    "print(even_fibonacci)\n",
    "odd_fibonacci = fibonacci_list [1:3]+fibonacci_list [4:6]\n",
    "print(odd_fibonacci)"
   ]
  }
 ],
 "metadata": {
  "kernelspec": {
   "display_name": "Python 3.10.8 64-bit",
   "language": "python",
   "name": "python3"
  },
  "language_info": {
   "codemirror_mode": {
    "name": "ipython",
    "version": 3
   },
   "file_extension": ".py",
   "mimetype": "text/x-python",
   "name": "python",
   "nbconvert_exporter": "python",
   "pygments_lexer": "ipython3",
   "version": "3.10.8"
  },
  "orig_nbformat": 4,
  "vscode": {
   "interpreter": {
    "hash": "e593ac106456af50ce7af38f9671c411b49d6cd90f9b885e167f0f594e09038c"
   }
  }
 },
 "nbformat": 4,
 "nbformat_minor": 2
}
