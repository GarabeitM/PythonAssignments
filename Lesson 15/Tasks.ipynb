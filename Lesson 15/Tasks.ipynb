{
 "cells": [
  {
   "cell_type": "markdown",
   "metadata": {},
   "source": [
    "Task 1:"
   ]
  },
  {
   "cell_type": "code",
   "execution_count": 31,
   "metadata": {},
   "outputs": [
    {
     "name": "stdout",
     "output_type": "stream",
     "text": [
      "['Hi', 'of', 'do', 'you', 'what', 'kind', 'want?', 'result', 'A really long element']\n"
     ]
    }
   ],
   "source": [
    "def string_by_length_func(old_list):\n",
    "    new_list = sorted(old_list, key=len)\n",
    "    print(new_list)\n",
    "\n",
    "\n",
    "example_list = [\"Hi\", \"what\", \"kind\", \"of\", \"result\",\n",
    "     \"do\", \"you\", \"want?\", \"A really long element\"]\n",
    "string_by_length_func(example_list)\n"
   ]
  },
  {
   "cell_type": "markdown",
   "metadata": {},
   "source": [
    "Task 2:"
   ]
  },
  {
   "cell_type": "code",
   "execution_count": 33,
   "metadata": {},
   "outputs": [
    {
     "name": "stdout",
     "output_type": "stream",
     "text": [
      "True\n",
      "False\n"
     ]
    }
   ],
   "source": [
    "def value_in_dict_func(dictionary, value):\n",
    "    print(bool(value in dictionary))\n",
    "\n",
    "\n",
    "new_dictionary = {\"name\": \"layla\", \"age\": 13,\n",
    "                  \"hobby\": \"piano\", \"major\": \"dentisry\"}\n",
    "value_in_dict_func(new_dictionary, \"name\")\n",
    "value_in_dict_func(new_dictionary, \"San Frransisco\")\n"
   ]
  },
  {
   "cell_type": "markdown",
   "metadata": {},
   "source": [
    "Task 3:"
   ]
  },
  {
   "cell_type": "code",
   "execution_count": 28,
   "metadata": {},
   "outputs": [
    {
     "name": "stdout",
     "output_type": "stream",
     "text": [
      "(True, 13)\n",
      "(False, 'None')\n"
     ]
    }
   ],
   "source": [
    "def tuple_from_dict_func(dictionary, key):\n",
    "    if bool(key in dictionary):\n",
    "        new_tuple = (bool(key in dictionary), dictionary[key])\n",
    "    else:\n",
    "        new_tuple = (bool(key in dictionary), \"None\")\n",
    "    print(new_tuple)\n",
    "\n",
    "\n",
    "New_dictionary = {\"name\": \"Layla\", \"age\": 13,\n",
    "                  \"hobby\": \"piano\", \"city\": \"Cairo\"}\n",
    "\n",
    "tuple_from_dict_func(New_dictionary, \"age\")\n",
    "tuple_from_dict_func(New_dictionary, \"newage\")\n"
   ]
  },
  {
   "cell_type": "markdown",
   "metadata": {},
   "source": [
    "Task 4:"
   ]
  },
  {
   "cell_type": "code",
   "execution_count": 26,
   "metadata": {},
   "outputs": [
    {
     "name": "stdout",
     "output_type": "stream",
     "text": [
      "{1: 'Hey', 2: 'Hi', 3: 'Hallo', 4: 'Moin'}\n"
     ]
    }
   ],
   "source": [
    "def dicts_merging_func(dict1, dict2):\n",
    "    new_dict = dict1 | dict2\n",
    "    print(new_dict)\n",
    "\n",
    "\n",
    "first_dict = {1: \"Hey\", 2: \"Hi\"}\n",
    "second_dict = {3: \"Hallo\", 4: \"Moin\"}\n",
    "dicts_merging_func(first_dict, second_dict)\n"
   ]
  },
  {
   "cell_type": "markdown",
   "metadata": {},
   "source": [
    "Task 5:"
   ]
  },
  {
   "cell_type": "code",
   "execution_count": 24,
   "metadata": {},
   "outputs": [
    {
     "name": "stdout",
     "output_type": "stream",
     "text": [
      "[1, 25, 10000, 400, 9]\n"
     ]
    }
   ],
   "source": [
    "def square_elements_func(list):\n",
    "    new_list = []\n",
    "    for element in list:\n",
    "        new_list.append(element**2)\n",
    "    print(new_list)\n",
    "\n",
    "\n",
    "example_list = [1, 5, 100, -20, 3]\n",
    "square_elements_func(example_list)\n"
   ]
  },
  {
   "cell_type": "markdown",
   "metadata": {},
   "source": [
    "Task 6:"
   ]
  },
  {
   "cell_type": "code",
   "execution_count": 23,
   "metadata": {},
   "outputs": [
    {
     "name": "stdout",
     "output_type": "stream",
     "text": [
      "['kjhgh', 'HI']\n"
     ]
    }
   ],
   "source": [
    "def only_strings_func(list):\n",
    "    new_list = []\n",
    "    for element in list:\n",
    "        if isinstance(element, str) == True:\n",
    "            new_list.append(element)\n",
    "    print(new_list)\n",
    "\n",
    "\n",
    "example_list = [2578, \"kjhgh\", True, 586698, \"HI\"]\n",
    "only_strings_func(example_list)\n"
   ]
  },
  {
   "cell_type": "markdown",
   "metadata": {},
   "source": [
    "Task 7:"
   ]
  },
  {
   "cell_type": "code",
   "execution_count": 22,
   "metadata": {},
   "outputs": [
    {
     "name": "stdout",
     "output_type": "stream",
     "text": [
      "True\n"
     ]
    }
   ],
   "source": [
    "import random\n",
    "\n",
    "\n",
    "def random_element_func(list):\n",
    "    random_element = list[random.randint(0, (len(list)-1))]\n",
    "    print(random_element)\n",
    "\n",
    "\n",
    "example_list = ['a', 13132, 'asdf', True, 654845, 2, \"other things\"]\n",
    "random_element_func(example_list)\n"
   ]
  },
  {
   "cell_type": "markdown",
   "metadata": {},
   "source": [
    "Task 8:"
   ]
  },
  {
   "cell_type": "code",
   "execution_count": 21,
   "metadata": {},
   "outputs": [
    {
     "name": "stdout",
     "output_type": "stream",
     "text": [
      "[4, 5, 3, 5, 3, 8, 3, 11, 7, 11, 12, 10, 9, 2, 6, 11, 10, 5, 7, 2, 4, 11, 2, 8, 11, 10, 2, 9]\n"
     ]
    }
   ],
   "source": [
    "import random\n",
    "\n",
    "\n",
    "def int_to_list_func(n, a, b):\n",
    "    list = []\n",
    "    while len(list) < n:\n",
    "        list.append(random.randint(a, b))\n",
    "    print(list)\n",
    "\n",
    "\n",
    "int_to_list_func(28, 2, 12)\n"
   ]
  },
  {
   "cell_type": "markdown",
   "metadata": {},
   "source": [
    "Task 9:\n",
    "Writing in a file with a \"w\" parameter means that this will be the only text in the file, and will replace any existing text there!\n",
    "Appending to a file with an 'a' parameter means that the new text will be appended to the end of the file, and won't replace the existing text there!"
   ]
  },
  {
   "cell_type": "code",
   "execution_count": 19,
   "metadata": {},
   "outputs": [],
   "source": [
    "def new_file_func_1(file_path):\n",
    "    file = open(file_path, \"w\")\n",
    "    file.write(\"Hello file!\")\n",
    "    file.close()\n",
    "\n",
    "\n",
    "new_file_func_1(\"C:\\\\Users\\\\PC\\\\Desktop\\\\Rest\\\\-ReDI\\\\Repositries\\\\PythonAssignments\\\\Lesson 15\\\\test-file-lesson-15.txt\")\n"
   ]
  },
  {
   "cell_type": "code",
   "execution_count": 16,
   "metadata": {},
   "outputs": [],
   "source": [
    "def new_file_func_2(file_path, some_string):\n",
    "    file = open(file_path, \"w\")\n",
    "    file.write(some_string)\n",
    "    file.close()\n",
    "\n",
    "\n",
    "new_file_func_2(\"C:\\\\Users\\\\PC\\\\Desktop\\\\Rest\\\\-ReDI\\\\Repositries\\\\PythonAssignments\\\\Lesson 15\\\\test-file-lesson-15.txt\", \"Oh, hey there!\")\n"
   ]
  },
  {
   "cell_type": "code",
   "execution_count": 20,
   "metadata": {},
   "outputs": [],
   "source": [
    "def new_file_func_3(file_path, some_string):\n",
    "    file = open(file_path, \"a\")\n",
    "    file.write(some_string)\n",
    "    file.close()\n",
    "\n",
    "\n",
    "new_file_func_3(\"C:\\\\Users\\\\PC\\\\Desktop\\\\Rest\\\\-ReDI\\\\Repositries\\\\PythonAssignments\\\\Lesson 15\\\\test-file-lesson-15.txt\", \" Oh, hey there!\")\n"
   ]
  }
 ],
 "metadata": {
  "kernelspec": {
   "display_name": "Python 3.10.8 64-bit",
   "language": "python",
   "name": "python3"
  },
  "language_info": {
   "codemirror_mode": {
    "name": "ipython",
    "version": 3
   },
   "file_extension": ".py",
   "mimetype": "text/x-python",
   "name": "python",
   "nbconvert_exporter": "python",
   "pygments_lexer": "ipython3",
   "version": "3.10.8"
  },
  "orig_nbformat": 4,
  "vscode": {
   "interpreter": {
    "hash": "e593ac106456af50ce7af38f9671c411b49d6cd90f9b885e167f0f594e09038c"
   }
  }
 },
 "nbformat": 4,
 "nbformat_minor": 2
}
