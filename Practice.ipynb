{
 "cells": [
  {
   "cell_type": "markdown",
   "metadata": {},
   "source": [
    "Name_length:"
   ]
  },
  {
   "cell_type": "code",
   "execution_count": 9,
   "metadata": {},
   "outputs": [
    {
     "name": "stdout",
     "output_type": "stream",
     "text": [
      "*************************\n",
      "Mary Garabeit is just as long as the average American name!\n",
      "*************************\n"
     ]
    }
   ],
   "source": [
    "first_name = input(\"What is your first name?\")\n",
    "last_name = input(\"What is your first name?\")\n",
    "name_length = len(first_name + last_name)\n",
    "\n",
    "print(\"*\"*25)\n",
    "if name_length < 12:\n",
    "    print(f\"{first_name} {last_name} is shorter than the average American name!\")\n",
    "elif name_length == 12:\n",
    "    print(f\"{first_name} {last_name} is just as long as the average American name!\")\n",
    "else:\n",
    "    print(f\"{first_name} {last_name} is longer than the average American name!\")\n",
    "print(\"*\"*25)"
   ]
  },
  {
   "cell_type": "markdown",
   "metadata": {},
   "source": [
    "cointoss:"
   ]
  },
  {
   "cell_type": "code",
   "execution_count": 47,
   "metadata": {},
   "outputs": [
    {
     "name": "stdout",
     "output_type": "stream",
     "text": [
      "Heads\n"
     ]
    }
   ],
   "source": [
    "from random import randint\n",
    "\n",
    "rand = randint(0,1)\n",
    "if rand == 0:\n",
    "  print(\"Heads!\")\n",
    "else: \n",
    "  print(\"Tails!\")  "
   ]
  },
  {
   "cell_type": "markdown",
   "metadata": {},
   "source": [
    "Conditionals_tweet_checker: "
   ]
  },
  {
   "cell_type": "code",
   "execution_count": 52,
   "metadata": {},
   "outputs": [
    {
     "name": "stdout",
     "output_type": "stream",
     "text": [
      "That 10 char tweet will work!\n"
     ]
    }
   ],
   "source": [
    "tweet = input(\"Enter your tweet:\")\n",
    "tweet_chars = 140\n",
    "if len(tweet) < tweet_chars:\n",
    "    print(f\"That {len(tweet)} char tweet will work!\")\n",
    "else:\n",
    "    print(\n",
    "        f\"Your {len(tweet)} chars tweet won't work, it's {len(tweet)-tweet_chars} chars too long!\")\n"
   ]
  },
  {
   "cell_type": "code",
   "execution_count": 11,
   "metadata": {},
   "outputs": [
    {
     "name": "stdout",
     "output_type": "stream",
     "text": [
      "fine I'll pick for you ... 7 \n",
      "you entered 7\n"
     ]
    }
   ],
   "source": [
    "try:\n",
    "    num = int(input(\"Enter a number: \"))\n",
    "except:\n",
    "  print(\"fine I'll pick for you ... 7 \")\n",
    "  num = 7\n",
    "  \n",
    "print(f\"you entered {num}\")"
   ]
  },
  {
   "cell_type": "code",
   "execution_count": null,
   "metadata": {},
   "outputs": [],
   "source": []
  }
 ],
 "metadata": {
  "kernelspec": {
   "display_name": "Python 3.10.8 64-bit",
   "language": "python",
   "name": "python3"
  },
  "language_info": {
   "codemirror_mode": {
    "name": "ipython",
    "version": 3
   },
   "file_extension": ".py",
   "mimetype": "text/x-python",
   "name": "python",
   "nbconvert_exporter": "python",
   "pygments_lexer": "ipython3",
   "version": "3.10.8"
  },
  "orig_nbformat": 4,
  "vscode": {
   "interpreter": {
    "hash": "e593ac106456af50ce7af38f9671c411b49d6cd90f9b885e167f0f594e09038c"
   }
  }
 },
 "nbformat": 4,
 "nbformat_minor": 2
}
