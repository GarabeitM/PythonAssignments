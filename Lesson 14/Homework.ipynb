{
 "cells": [
  {
   "cell_type": "markdown",
   "metadata": {},
   "source": [
    "Task 1:\n"
   ]
  },
  {
   "cell_type": "code",
   "execution_count": 37,
   "metadata": {},
   "outputs": [
    {
     "name": "stdout",
     "output_type": "stream",
     "text": [
      "The word that starts with the latest letter of the alphabet is: \"school\" \n"
     ]
    }
   ],
   "source": [
    "def last_word(str_list):\n",
    "    A = sorted(str_list)\n",
    "    return print(f\"\"\"The string that starts with the latest letter of the alphabet is: \"{A[-1]}\" \"\"\")\n",
    "\n",
    "\n",
    "list_of_words = [\"redi\", \"school\", \"is\", \"nice\"]\n",
    "last_word(list_of_words)\n"
   ]
  },
  {
   "cell_type": "markdown",
   "metadata": {},
   "source": [
    "Task 2:\n"
   ]
  },
  {
   "cell_type": "code",
   "execution_count": 38,
   "metadata": {},
   "outputs": [
    {
     "name": "stdout",
     "output_type": "stream",
     "text": [
      "Your file reads: Hey, I am a random text!\n"
     ]
    }
   ],
   "source": [
    "def print_file(file_path):\n",
    "    opened_file = open(file_path)\n",
    "    read_file = opened_file.read()\n",
    "    print(f\"Your file reads: {read_file}\")\n",
    "\n",
    "\n",
    "print_file(\n",
    "    \"C:\\\\Users\\\\PC\\\\Desktop\\\\Rest\\\\-ReDI\\\\Repositries\\\\PythonAssignments\\\\Lesson 14\\\\randomtext.txt\")\n"
   ]
  },
  {
   "cell_type": "markdown",
   "metadata": {},
   "source": [
    "Task 3:\n"
   ]
  },
  {
   "cell_type": "code",
   "execution_count": 8,
   "metadata": {},
   "outputs": [
    {
     "name": "stdout",
     "output_type": "stream",
     "text": [
      "Your lucky number is: 3\n"
     ]
    }
   ],
   "source": [
    "import random\n",
    "\n",
    "\n",
    "def dice():\n",
    "    return print(f\"Your lucky number is: {random.randint(1, 6)}\")\n",
    "\n",
    "\n",
    "C = dice()\n"
   ]
  },
  {
   "cell_type": "markdown",
   "metadata": {},
   "source": [
    "Task 4:\n"
   ]
  },
  {
   "cell_type": "code",
   "execution_count": 25,
   "metadata": {},
   "outputs": [
    {
     "data": {
      "text/plain": [
       "'Saturday'"
      ]
     },
     "execution_count": 25,
     "metadata": {},
     "output_type": "execute_result"
    }
   ],
   "source": [
    "import datetime\n",
    "import calendar\n",
    "\n",
    "\n",
    "def weekday_by_date(day, month, year):\n",
    "    return calendar.day_name[\n",
    "        datetime.date(day=day, month=month, year=year).weekday()]\n",
    "\n",
    "\n",
    "weekday_by_date(24, 12, 2022)\n"
   ]
  },
  {
   "cell_type": "markdown",
   "metadata": {},
   "source": [
    "Task 5:\n",
    "There were multiple ways to complete this task, and the documentation stated that the \".perf_counter_ns\" method is the highest available resolution to measure a short duration. However, the results varried as I ran this multiple times!\n",
    "So I also tried the \".time\" method for comparison purposes, the results still varried so I couldn't tell which function is faster."
   ]
  },
  {
   "cell_type": "code",
   "execution_count": 37,
   "metadata": {},
   "outputs": [
    {
     "name": "stdout",
     "output_type": "stream",
     "text": [
      "Duration_1_list() 1014542300\n",
      "Duration_1_[] 1010903900\n",
      "[] is faster\n",
      "Duration_2_list() 1.011998176574707\n",
      "Duration_2_[] 1.0084095001220703\n",
      "[] is faster\n"
     ]
    }
   ],
   "source": [
    "import time\n",
    "\n",
    "# creating a million empty lists via list():\n",
    "def time_list1(n):\n",
    "    lists = [list() for _ in range(n)]\n",
    "    \n",
    "first_method = time_list1(1_000_000) \n",
    "\n",
    "# creating a million empty lists via []:  \n",
    "def time_list2(n):\n",
    "    lists = [[] for _ in range(n)]\n",
    "    \n",
    "second_method = time_list2(1_000_000) \n",
    "   \n",
    " #first_possible_solution: \n",
    "def timing_1(function, name_of_method):\n",
    "    start_time = time.perf_counter_ns()\n",
    "    time.sleep(1)\n",
    "    function\n",
    "    end_time = time.perf_counter_ns()\n",
    "    duration = end_time - start_time\n",
    "    duration_1= end_time - start_time\n",
    "    print(f\"Duration_1_{name_of_method} {duration_1}\")\n",
    "    return duration-1\n",
    "      \n",
    "A = timing_1(first_method, \"list()\")\n",
    "B = timing_1(second_method, \"[]\")\n",
    "\n",
    "\n",
    "if A > B:\n",
    "    print(\"[] is faster\")\n",
    "else:\n",
    "    print (\"list () is faster\")\n",
    "    \n",
    "#second_poosible_solution:\n",
    "def timing_2(function, name_of_method):\n",
    "    start_time = time.time()\n",
    "    time.sleep(1)\n",
    "    function\n",
    "    end_time = time.time()\n",
    "    duration_2 = end_time-start_time\n",
    "    print(f\"Duration_2_{name_of_method} {duration_2}\") \n",
    "    return duration_2\n",
    "\n",
    "C = timing_2(first_method, \"list()\")\n",
    "D = timing_2(second_method, \"[]\")\n",
    "\n",
    "if C > D:\n",
    "    print(\"[] is faster\")\n",
    "else:\n",
    "    print (\"list () is faster\")\n",
    "    "
   ]
  },
  {
   "cell_type": "markdown",
   "metadata": {},
   "source": [
    "Task 6: -I was able to get the general idea. However, I couldn't really figure out what this sentence means! \"- Ignore the name of the input directory path itself for the search string\"\n",
    "-I decided on all files containing \"sunrise\" as a search pattern, btw just searching for \"sunrise\" resulted in an empty list!\n"
   ]
  },
  {
   "cell_type": "code",
   "execution_count": 39,
   "metadata": {},
   "outputs": [
    {
     "data": {
      "text/plain": [
       "['C:\\\\Users\\\\PC\\\\Desktop\\\\Rest\\\\-ReDI\\\\Repositries\\\\L7-Portfolio\\\\sunrise.jpg',\n",
       " 'C:\\\\Users\\\\PC\\\\Desktop\\\\Rest\\\\-ReDI\\\\Repositries\\\\L7-Portfolio\\\\assets\\\\2-sunrise - Kopie.jpg',\n",
       " 'C:\\\\Users\\\\PC\\\\Desktop\\\\Rest\\\\-ReDI\\\\Repositries\\\\L7-Portfolio\\\\assets\\\\2-sunrise.jpg',\n",
       " 'C:\\\\Users\\\\PC\\\\Desktop\\\\Rest\\\\-ReDI\\\\Repositries\\\\L7-Portfolio\\\\assets\\\\sunrise.jpg',\n",
       " 'C:\\\\Users\\\\PC\\\\Desktop\\\\Rest\\\\-ReDI\\\\Repositries\\\\L7-Portfolio\\\\assets\\\\txt\\\\sunrise.txt']"
      ]
     },
     "execution_count": 39,
     "metadata": {},
     "output_type": "execute_result"
    }
   ],
   "source": [
    "import os\n",
    "import fnmatch\n",
    "\n",
    "\n",
    "def find_in_filenames(directory_path, search_pattern):\n",
    "    result = []\n",
    "    for root, dirs, files in os.walk(directory_path):\n",
    "        for name in files:\n",
    "            if fnmatch.fnmatch(name, search_pattern):\n",
    "                result.append(os.path.join(root, name))\n",
    "    return result\n",
    "find_in_filenames(\n",
    "    \"C:\\\\Users\\\\PC\\\\Desktop\\\\Rest\\\\-ReDI\\\\Repositries\\\\L7-Portfolio\", \"*sunrise*.*\")\n"
   ]
  }
 ],
 "metadata": {
  "kernelspec": {
   "display_name": "Python 3.10.8 64-bit",
   "language": "python",
   "name": "python3"
  },
  "language_info": {
   "codemirror_mode": {
    "name": "ipython",
    "version": 3
   },
   "file_extension": ".py",
   "mimetype": "text/x-python",
   "name": "python",
   "nbconvert_exporter": "python",
   "pygments_lexer": "ipython3",
   "version": "3.10.8"
  },
  "orig_nbformat": 4,
  "vscode": {
   "interpreter": {
    "hash": "e593ac106456af50ce7af38f9671c411b49d6cd90f9b885e167f0f594e09038c"
   }
  }
 },
 "nbformat": 4,
 "nbformat_minor": 2
}
