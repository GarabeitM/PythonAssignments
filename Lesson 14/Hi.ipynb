{
 "cells": [
  {
   "cell_type": "markdown",
   "metadata": {},
   "source": [
    "Task 1:"
   ]
  },
  {
   "cell_type": "code",
   "execution_count": 1,
   "metadata": {},
   "outputs": [
    {
     "data": {
      "text/plain": [
       "'school'"
      ]
     },
     "execution_count": 1,
     "metadata": {},
     "output_type": "execute_result"
    }
   ],
   "source": [
    "def last_word(str_list):\n",
    "    A = sorted(str_list)\n",
    "    return A [-1]\n",
    "  \n",
    "  \n",
    "list_of_words = [\"redi\", \"school\", \"is\", \"nice\"]\n",
    "last_word(list_of_words) "
   ]
  },
  {
   "cell_type": "markdown",
   "metadata": {},
   "source": [
    "Task 2:"
   ]
  },
  {
   "cell_type": "code",
   "execution_count": null,
   "metadata": {},
   "outputs": [],
   "source": [
    "def print_file(file_path):\n",
    "  opened_file = open(file_path)\n",
    "  read_file = opened_file.read()\n",
    "  print(read_file)\n",
    "\n",
    "print_file (\"C:\\\\Users\\\\PC\\\\Desktop\\\\Rest\\\\-ReDI\\\\Repositries\\\\L14-Practice\\\\hello.txt\")"
   ]
  },
  {
   "cell_type": "markdown",
   "metadata": {},
   "source": [
    "Task 3:"
   ]
  },
  {
   "cell_type": "code",
   "execution_count": null,
   "metadata": {},
   "outputs": [],
   "source": [
    "import random\n",
    "def dice():\n",
    "    return print(random.randrange(1,6))\n",
    "\n",
    "C = dice()"
   ]
  },
  {
   "cell_type": "markdown",
   "metadata": {},
   "source": [
    "Task 4:"
   ]
  },
  {
   "cell_type": "code",
   "execution_count": 5,
   "metadata": {},
   "outputs": [
    {
     "ename": "ValueError",
     "evalue": "day is out of range for month",
     "output_type": "error",
     "traceback": [
      "\u001b[1;31m---------------------------------------------------------------------------\u001b[0m",
      "\u001b[1;31mValueError\u001b[0m                                Traceback (most recent call last)",
      "Cell \u001b[1;32mIn [5], line 5\u001b[0m\n\u001b[0;32m      2\u001b[0m \u001b[39mdef\u001b[39;00m \u001b[39mweekday_by_date\u001b[39m(dd, mm, yyyy):\n\u001b[0;32m      3\u001b[0m     \u001b[39mprint\u001b[39m(datetime\u001b[39m.\u001b[39mdatetime(dd, mm, yyyy))\n\u001b[1;32m----> 5\u001b[0m weekday_by_date(\u001b[39m11\u001b[39;49m, \u001b[39m11\u001b[39;49m, \u001b[39m2022\u001b[39;49m)\n",
      "Cell \u001b[1;32mIn [5], line 3\u001b[0m, in \u001b[0;36mweekday_by_date\u001b[1;34m(dd, mm, yyyy)\u001b[0m\n\u001b[0;32m      2\u001b[0m \u001b[39mdef\u001b[39;00m \u001b[39mweekday_by_date\u001b[39m(dd, mm, yyyy):\n\u001b[1;32m----> 3\u001b[0m     \u001b[39mprint\u001b[39m(datetime\u001b[39m.\u001b[39;49mdatetime(dd, mm, yyyy))\n",
      "\u001b[1;31mValueError\u001b[0m: day is out of range for month"
     ]
    }
   ],
   "source": [
    "import datetime \n",
    "def weekday_by_date(dd, mm, yyyy):\n",
    "    print(datetime.datetime(dd, mm, yyyy))\n",
    "    \n",
    "weekday_by_date(11, 11, 2022)   "
   ]
  },
  {
   "cell_type": "code",
   "execution_count": null,
   "metadata": {},
   "outputs": [],
   "source": []
  },
  {
   "cell_type": "markdown",
   "metadata": {},
   "source": [
    "Task 5:"
   ]
  },
  {
   "cell_type": "code",
   "execution_count": null,
   "metadata": {},
   "outputs": [],
   "source": []
  }
 ],
 "metadata": {
  "kernelspec": {
   "display_name": "Python 3.10.8 64-bit",
   "language": "python",
   "name": "python3"
  },
  "language_info": {
   "codemirror_mode": {
    "name": "ipython",
    "version": 3
   },
   "file_extension": ".py",
   "mimetype": "text/x-python",
   "name": "python",
   "nbconvert_exporter": "python",
   "pygments_lexer": "ipython3",
   "version": "3.10.8"
  },
  "orig_nbformat": 4,
  "vscode": {
   "interpreter": {
    "hash": "e593ac106456af50ce7af38f9671c411b49d6cd90f9b885e167f0f594e09038c"
   }
  }
 },
 "nbformat": 4,
 "nbformat_minor": 2
}
